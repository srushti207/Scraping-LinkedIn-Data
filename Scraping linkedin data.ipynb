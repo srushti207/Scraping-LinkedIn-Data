{
 "cells": [
  {
   "cell_type": "markdown",
   "id": "34dad82d",
   "metadata": {},
   "source": [
    "# Scraping Linkedin Data "
   ]
  },
  {
   "cell_type": "code",
   "execution_count": 9,
   "id": "5b713819",
   "metadata": {},
   "outputs": [],
   "source": [
    "from selenium import webdriver\n",
    "from selenium.webdriver.common.by import By\n",
    "from selenium.webdriver.common.keys import Keys\n",
    "from selenium.webdriver.support.ui import WebDriverWait\n",
    "from selenium.webdriver.support import expected_conditions as EC\n",
    "from selenium.common.exceptions import TimeoutException, NoSuchElementException\n",
    "import pandas as pd\n",
    "import time"
   ]
  },
  {
   "cell_type": "code",
   "execution_count": 2,
   "id": "42c6d7fd",
   "metadata": {},
   "outputs": [],
   "source": [
    "EMAIL = \"YOUR_EMAIL_ID\"\n",
    "PASSWORD = \"PASSWORD\"\n",
    "def init_driver():\n",
    "    options = webdriver.ChromeOptions()\n",
    "    options.add_argument(\"--start-maximized\")\n",
    "    driver = webdriver.Chrome(options=options)\n",
    "    return driver"
   ]
  },
  {
   "cell_type": "code",
   "execution_count": 3,
   "id": "f1b0b82f",
   "metadata": {},
   "outputs": [],
   "source": [
    "def login_to_linkedin(driver):\n",
    "    driver.get(\"https://www.linkedin.com/login\")\n",
    "    WebDriverWait(driver, 10).until(EC.presence_of_element_located((By.ID, \"username\"))).send_keys(EMAIL)\n",
    "    driver.find_element(By.ID, \"password\").send_keys(PASSWORD + Keys.RETURN)\n"
   ]
  },
  {
   "cell_type": "code",
   "execution_count": 4,
   "id": "bdf5cfbb",
   "metadata": {},
   "outputs": [],
   "source": [
    "def scrape_profiles(driver, profile_urls):\n",
    "    data = []\n",
    "    for url in profile_urls:\n",
    "        try:\n",
    "            driver.get(url)\n",
    "            WebDriverWait(driver, 10).until(EC.presence_of_element_located((By.TAG_NAME, \"body\")))\n",
    "\n",
    "            name = driver.find_element(By.CSS_SELECTOR, \"h1.text-heading-xlarge\").text\n",
    "            positions = driver.find_elements(By.CSS_SELECTOR, \".experience-item__title\")\n",
    "            companies = driver.find_elements(By.CSS_SELECTOR, \".experience-item__company-name\")\n",
    "            industries = driver.find_elements(By.CSS_SELECTOR, \".experience-item__industry\")\n",
    "\n",
    "            for pos, comp, ind in zip(positions, companies, industries):\n",
    "                data.append({\n",
    "                    \"Name\": name,\n",
    "                    \"Job Title\": pos.text,\n",
    "                    \"Company\": comp.text,\n",
    "                    \"Industry\": ind.text\n",
    "                })\n",
    "\n",
    "        except TimeoutException:\n",
    "            print(f\"Timeout while loading: {url}\")\n",
    "        except NoSuchElementException:\n",
    "            print(f\"Missing data on: {url}\")\n",
    "    return data\n"
   ]
  },
  {
   "cell_type": "code",
   "execution_count": 5,
   "id": "983cba8e",
   "metadata": {},
   "outputs": [],
   "source": [
    "def save_to_csv(data, filename=\"linkedin_profiles.csv\"):\n",
    "    df = pd.DataFrame(data)\n",
    "    df.to_csv(filename, index=False)\n",
    "    print(f\"Data saved to {filename}\")"
   ]
  },
  {
   "cell_type": "code",
   "execution_count": 6,
   "id": "c15ce53b",
   "metadata": {},
   "outputs": [],
   "source": [
    "def main():\n",
    "    driver = init_driver()\n",
    "    try:\n",
    "        login_to_linkedin(driver)\n",
    "\n",
    "       \n",
    "        profile_urls = [\n",
    "            \"https://www.linkedin.com/in/srushti-admuthe-b03285240/\"\n",
    "        ]\n",
    "\n",
    "        data = scrape_profiles(driver, profile_urls)\n",
    "        save_to_csv(data)\n",
    "\n",
    "    finally:\n",
    "        driver.quit()"
   ]
  },
  {
   "cell_type": "code",
   "execution_count": 8,
   "id": "f2b4460e",
   "metadata": {},
   "outputs": [
    {
     "name": "stdout",
     "output_type": "stream",
     "text": [
      "Missing data on: https://www.linkedin.com/in/srushti-admuthe-b03285240/\n",
      "Data saved to linkedin_profiles.csv\n"
     ]
    }
   ],
   "source": [
    "if __name__ == \"__main__\":\n",
    "    main()"
   ]
  },
  {
   "cell_type": "code",
   "execution_count": null,
   "id": "5a2d11ee",
   "metadata": {},
   "outputs": [],
   "source": []
  }
 ],
 "metadata": {
  "kernelspec": {
   "display_name": "Python 3 (ipykernel)",
   "language": "python",
   "name": "python3"
  },
  "language_info": {
   "codemirror_mode": {
    "name": "ipython",
    "version": 3
   },
   "file_extension": ".py",
   "mimetype": "text/x-python",
   "name": "python",
   "nbconvert_exporter": "python",
   "pygments_lexer": "ipython3",
   "version": "3.11.3"
  }
 },
 "nbformat": 4,
 "nbformat_minor": 5
}
